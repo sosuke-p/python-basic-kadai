{
  "nbformat": 4,
  "nbformat_minor": 0,
  "metadata": {
    "colab": {
      "provenance": [],
      "authorship_tag": "ABX9TyPOnObtv8ET8voCHilL8kj3",
      "include_colab_link": true
    },
    "kernelspec": {
      "name": "python3",
      "display_name": "Python 3"
    },
    "language_info": {
      "name": "python"
    }
  },
  "cells": [
    {
      "cell_type": "markdown",
      "metadata": {
        "id": "view-in-github",
        "colab_type": "text"
      },
      "source": [
        "<a href=\"https://colab.research.google.com/github/sosuke-p/python-basic-kadai/blob/main/Untitled0.ipynb\" target=\"_parent\"><img src=\"https://colab.research.google.com/assets/colab-badge.svg\" alt=\"Open In Colab\"/></a>"
      ]
    },
    {
      "cell_type": "code",
      "execution_count": 11,
      "metadata": {
        "colab": {
          "base_uri": "https://localhost:8080/"
        },
        "id": "tzUFmD-TPPk1",
        "outputId": "607ebdef-ee19-49c8-94b7-6c244c643bc9"
      },
      "outputs": [
        {
          "output_type": "stream",
          "name": "stdout",
          "text": [
            "75.0cm\n",
            "75.0cm\n"
          ]
        }
      ],
      "source": [
        "#課題１　台形の面積計算\n",
        "#公式　面積＝（上辺＋下辺）×高さ÷２\n",
        "#条件　上辺＝10cm　下辺＝20cm　高さ＝5cm\n",
        "#数値で計算\n",
        "menseki=(10+20)*5/2\n",
        "print(str(menseki)+\"cm\")\n",
        "#変数で計算\n",
        "jouhen=10\n",
        "kahen=20\n",
        "takasa=5\n",
        "menseki2=(jouhen+kahen)*takasa/2\n",
        "print(str(menseki2)+\"cm\")\n",
        "\n",
        "\n",
        "\n",
        "\n"
      ]
    }
  ]
}